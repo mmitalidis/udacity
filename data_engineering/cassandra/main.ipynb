{
 "cells": [
  {
   "cell_type": "markdown",
   "metadata": {
    "editable": true
   },
   "source": [
    "# Part I. ETL Pipeline for Pre-Processing the Files"
   ]
  },
  {
   "cell_type": "markdown",
   "metadata": {
    "editable": true
   },
   "source": [
    "## The following code is pre-processing the event logs to produce a combined CSV file"
   ]
  },
  {
   "cell_type": "markdown",
   "metadata": {
    "editable": true
   },
   "source": [
    "#### Import Python packages "
   ]
  },
  {
   "cell_type": "code",
   "execution_count": 1,
   "metadata": {
    "editable": true
   },
   "outputs": [],
   "source": [
    "import pandas as pd\n",
    "import cassandra\n",
    "import re\n",
    "import os\n",
    "import glob\n",
    "import csv"
   ]
  },
  {
   "cell_type": "markdown",
   "metadata": {
    "editable": true
   },
   "source": [
    "#### Creating list of filepaths to process original event csv data files"
   ]
  },
  {
   "cell_type": "code",
   "execution_count": 2,
   "metadata": {
    "editable": true
   },
   "outputs": [
    {
     "name": "stdout",
     "output_type": "stream",
     "text": [
      "Found 30 CSV files in /home/workspace/event_data/*.csv\n"
     ]
    }
   ],
   "source": [
    "filepath = os.path.join(os.getcwd(), 'event_data', '*.csv')\n",
    "file_path_list = glob.glob(filepath)\n",
    "print(f\"Found {len(file_path_list)} CSV files in {filepath}\")"
   ]
  },
  {
   "cell_type": "markdown",
   "metadata": {
    "editable": true
   },
   "source": [
    "#### Processing the files to create the datafile csv that will be used for creating the Apache Cassandra tables"
   ]
  },
  {
   "cell_type": "code",
   "execution_count": 3,
   "metadata": {
    "editable": true
   },
   "outputs": [],
   "source": [
    "data = pd.concat([pd.read_csv(filename) for filename in file_path_list])\n",
    "\n",
    "output_columns = [\n",
    "        'artist',\n",
    "        'firstName',\n",
    "        'gender',\n",
    "        'itemInSession',\n",
    "        'lastName',\n",
    "        'length',\n",
    "        'level',\n",
    "        'location',\n",
    "        'sessionId',\n",
    "        'song',\n",
    "        'userId'\n",
    "    ]\n",
    "output_data = data[data.artist.notnull()][output_columns]\n",
    "output_data = output_data.astype({'userId': 'int64'})\n",
    "\n",
    "output_data.to_csv('event_datafile_new.csv', index=False)"
   ]
  },
  {
   "cell_type": "code",
   "execution_count": 4,
   "metadata": {
    "editable": true
   },
   "outputs": [
    {
     "name": "stdout",
     "output_type": "stream",
     "text": [
      "6821\n"
     ]
    }
   ],
   "source": [
    "# Checking the number of rows in the csv file\n",
    "with open('event_datafile_new.csv', 'r', encoding = 'utf8') as f:\n",
    "    print(len(f.readlines()))"
   ]
  },
  {
   "cell_type": "markdown",
   "metadata": {
    "editable": true
   },
   "source": [
    "# Part II. Using Apache Cassandra for data modelling and quering.\n",
    "\n",
    "## Once pre-processing is done, the CSV file titled <font color=red>event_datafile_new.csv</font>, will be located within the Workspace directory. The event_datafile_new.csv contains the following columns: \n",
    "- artist \n",
    "- firstName of user\n",
    "- gender of user\n",
    "- item number in session\n",
    "- last name of user\n",
    "- length of the song\n",
    "- level (paid or free song)\n",
    "- location of the user\n",
    "- sessionId\n",
    "- song title\n",
    "- userId\n",
    "\n",
    "The image below is a screenshot of what the denormalized data should appear like in the <font color=red>**event_datafile_new.csv**</font> after the code above is run:<br>\n",
    "\n",
    "<img src=\"images/image_event_datafile_new.jpg\">"
   ]
  },
  {
   "cell_type": "markdown",
   "metadata": {
    "editable": true
   },
   "source": [
    "## Connecting to Apache Cassandra and setting the keyspace"
   ]
  },
  {
   "cell_type": "markdown",
   "metadata": {
    "editable": true
   },
   "source": [
    "#### Creating a Cluster"
   ]
  },
  {
   "cell_type": "code",
   "execution_count": 5,
   "metadata": {
    "editable": true
   },
   "outputs": [],
   "source": [
    "from cassandra.cluster import Cluster\n",
    "cluster = Cluster()\n",
    "session = cluster.connect()"
   ]
  },
  {
   "cell_type": "markdown",
   "metadata": {
    "editable": true
   },
   "source": [
    "#### Create Keyspace"
   ]
  },
  {
   "cell_type": "code",
   "execution_count": 6,
   "metadata": {
    "editable": true
   },
   "outputs": [
    {
     "data": {
      "text/plain": [
       "<cassandra.cluster.ResultSet at 0x7f04a04211d0>"
      ]
     },
     "execution_count": 6,
     "metadata": {},
     "output_type": "execute_result"
    }
   ],
   "source": [
    "session.execute(\"\"\"\n",
    "    CREATE KEYSPACE IF NOT EXISTS udacity\n",
    "    WITH REPLICATION = \n",
    "    {'class': 'SimpleStrategy', 'replication_factor': 1}\n",
    "    \"\"\")"
   ]
  },
  {
   "cell_type": "markdown",
   "metadata": {
    "editable": true
   },
   "source": [
    "#### Set Keyspace"
   ]
  },
  {
   "cell_type": "code",
   "execution_count": 7,
   "metadata": {
    "editable": true
   },
   "outputs": [],
   "source": [
    "session.set_keyspace(\"udacity\")"
   ]
  },
  {
   "cell_type": "markdown",
   "metadata": {
    "editable": true
   },
   "source": [
    "## The following section create separate tables the queries that we are interested in..\n",
    "\n",
    "### When using Apache Cassandra we need to model the database tables on the queries we want to run.\n",
    "\n",
    "The following two methods are used for convenience. \n",
    "They are useful for inserting data from the CSV to the table and for reading data from the table."
   ]
  },
  {
   "cell_type": "code",
   "execution_count": 8,
   "metadata": {
    "editable": true
   },
   "outputs": [],
   "source": [
    "def insert_to_table(table, columns, file='event_datafile_new.csv'):\n",
    "    \"\"\"\n",
    "    Insert data from a CSV file to an Apache Cassandra table.\n",
    "    \n",
    "    Note, that the table should already exist in the database.\n",
    "    \"\"\"\n",
    "    table = re.escape(table)\n",
    "    columns = [re.escape(col).lower() for col in columns]\n",
    "\n",
    "    columns_str = ','.join(columns)\n",
    "    values_str = ','.join(['%s'] * len(columns))\n",
    "    \n",
    "    query = f\"\"\"INSERT INTO {table}\n",
    "                ( {columns_str} )\n",
    "                VALUES ( {values_str} )\"\"\"\n",
    "\n",
    "    with open(file, encoding = 'utf8') as f:\n",
    "        csvreader = csv.reader(f)\n",
    "        next(csvreader) # skip header\n",
    "        for line in csvreader:\n",
    "            data = {\n",
    "                \"artist\": line[0],\n",
    "                \"firstname\": line[1],\n",
    "                \"gender\": line[2],\n",
    "                \"iteminsession\": int(line[3]),\n",
    "                \"lastname\":line[4],\n",
    "                \"length\": float(line[5]),\n",
    "                \"level\": line[6],\n",
    "                \"location\": line[7],\n",
    "                \"sessionid\": int(line[8]),\n",
    "                \"song\": line[9],\n",
    "                \"userid\": int(line[10]),\n",
    "            }\n",
    "            session.execute(query, [data[col] for col in columns])\n",
    "\n",
    "def read_to_df(query):\n",
    "    rows = session.execute(query)\n",
    "    return pd.DataFrame(list(rows))"
   ]
  },
  {
   "cell_type": "markdown",
   "metadata": {
    "editable": true
   },
   "source": [
    "#### First we create a table as an example and insert data from the CSV file"
   ]
  },
  {
   "cell_type": "code",
   "execution_count": 9,
   "metadata": {
    "editable": true
   },
   "outputs": [],
   "source": [
    "session.execute(\"\"\"CREATE TABLE IF NOT EXISTS song_info_session_example (\n",
    "                   sessionId INT,\n",
    "                   itemInSession INT,\n",
    "                   artist TEXT,\n",
    "                   song TEXT,\n",
    "                   length FLOAT,\n",
    "                   PRIMARY KEY (sessionId, itemInSession))\"\"\")   \n",
    "columns = ['sessionId', 'itemInSession', 'artist', 'song', 'length']\n",
    "insert_to_table(\"song_info_session_example\", columns=columns)"
   ]
  },
  {
   "cell_type": "markdown",
   "metadata": {
    "editable": true
   },
   "source": [
    "#### Next we execute a SELECT to verify that the data have been inserted into the table"
   ]
  },
  {
   "cell_type": "code",
   "execution_count": 10,
   "metadata": {
    "editable": true,
    "scrolled": true
   },
   "outputs": [
    {
     "data": {
      "text/html": [
       "<div>\n",
       "<style scoped>\n",
       "    .dataframe tbody tr th:only-of-type {\n",
       "        vertical-align: middle;\n",
       "    }\n",
       "\n",
       "    .dataframe tbody tr th {\n",
       "        vertical-align: top;\n",
       "    }\n",
       "\n",
       "    .dataframe thead th {\n",
       "        text-align: right;\n",
       "    }\n",
       "</style>\n",
       "<table border=\"1\" class=\"dataframe\">\n",
       "  <thead>\n",
       "    <tr style=\"text-align: right;\">\n",
       "      <th></th>\n",
       "      <th>artist</th>\n",
       "      <th>song</th>\n",
       "      <th>length</th>\n",
       "    </tr>\n",
       "  </thead>\n",
       "  <tbody>\n",
       "    <tr>\n",
       "      <th>0</th>\n",
       "      <td>Regina Spektor</td>\n",
       "      <td>The Calculation (Album Version)</td>\n",
       "      <td>191.085266</td>\n",
       "    </tr>\n",
       "    <tr>\n",
       "      <th>1</th>\n",
       "      <td>Octopus Project</td>\n",
       "      <td>All Of The Champs That Ever Lived</td>\n",
       "      <td>250.957916</td>\n",
       "    </tr>\n",
       "    <tr>\n",
       "      <th>2</th>\n",
       "      <td>Tegan And Sara</td>\n",
       "      <td>So Jealous</td>\n",
       "      <td>180.061584</td>\n",
       "    </tr>\n",
       "    <tr>\n",
       "      <th>3</th>\n",
       "      <td>Dragonette</td>\n",
       "      <td>Okay Dolores</td>\n",
       "      <td>153.390564</td>\n",
       "    </tr>\n",
       "    <tr>\n",
       "      <th>4</th>\n",
       "      <td>Lil Wayne / Eminem</td>\n",
       "      <td>Drop The World</td>\n",
       "      <td>229.589752</td>\n",
       "    </tr>\n",
       "    <tr>\n",
       "      <th>5</th>\n",
       "      <td>Soulja Boy Tell'em</td>\n",
       "      <td>Let Me Get Em</td>\n",
       "      <td>201.116287</td>\n",
       "    </tr>\n",
       "    <tr>\n",
       "      <th>6</th>\n",
       "      <td>Bodo Wartke</td>\n",
       "      <td>Liebeslied (Sprachen: Deutsch_ Englisch_ Franz...</td>\n",
       "      <td>645.276306</td>\n",
       "    </tr>\n",
       "    <tr>\n",
       "      <th>7</th>\n",
       "      <td>Evanescence</td>\n",
       "      <td>Bring Me To Life</td>\n",
       "      <td>237.113022</td>\n",
       "    </tr>\n",
       "    <tr>\n",
       "      <th>8</th>\n",
       "      <td>Van Halen</td>\n",
       "      <td>Good Enough</td>\n",
       "      <td>243.173416</td>\n",
       "    </tr>\n",
       "    <tr>\n",
       "      <th>9</th>\n",
       "      <td>The Academy Is...</td>\n",
       "      <td>Paper Chase (Album Version)</td>\n",
       "      <td>209.762817</td>\n",
       "    </tr>\n",
       "  </tbody>\n",
       "</table>\n",
       "</div>"
      ],
      "text/plain": [
       "               artist                                               song  \\\n",
       "0      Regina Spektor                    The Calculation (Album Version)   \n",
       "1     Octopus Project                  All Of The Champs That Ever Lived   \n",
       "2      Tegan And Sara                                         So Jealous   \n",
       "3          Dragonette                                       Okay Dolores   \n",
       "4  Lil Wayne / Eminem                                     Drop The World   \n",
       "5  Soulja Boy Tell'em                                      Let Me Get Em   \n",
       "6         Bodo Wartke  Liebeslied (Sprachen: Deutsch_ Englisch_ Franz...   \n",
       "7         Evanescence                                   Bring Me To Life   \n",
       "8           Van Halen                                        Good Enough   \n",
       "9   The Academy Is...                        Paper Chase (Album Version)   \n",
       "\n",
       "       length  \n",
       "0  191.085266  \n",
       "1  250.957916  \n",
       "2  180.061584  \n",
       "3  153.390564  \n",
       "4  229.589752  \n",
       "5  201.116287  \n",
       "6  645.276306  \n",
       "7  237.113022  \n",
       "8  243.173416  \n",
       "9  209.762817  "
      ]
     },
     "execution_count": 10,
     "metadata": {},
     "output_type": "execute_result"
    }
   ],
   "source": [
    "read_to_df(\"SELECT artist, song, length FROM song_info_session_example LIMIT 10\")"
   ]
  },
  {
   "cell_type": "markdown",
   "metadata": {
    "editable": true
   },
   "source": [
    "### The following cells create separate tables for each of the queries that we are interested in.\n",
    "We are storing the data in Apache Cassandra, denormalized and in a separate table for each query, in order to optimize for fast reads."
   ]
  },
  {
   "cell_type": "markdown",
   "metadata": {
    "editable": true
   },
   "source": [
    "#### Question 1: Give me the artist, song title and song's length in the music app history that was heard during sessionId = 338, and itemInSession = 4\n",
    "\n",
    "We need to read metadata about the songs that were requested during a particular session.\n",
    "Each a session can have many items, and we want to include both columns in the *WHERE* clause.\n",
    "\n",
    "Hence, both the *sessionId* and the *itemInSession*, will need to be parts of the Primary Key.\n",
    "\n",
    "The *sessionId* will also be the partition key, which will determine how the data are stored in the cluster nodes."
   ]
  },
  {
   "cell_type": "code",
   "execution_count": 11,
   "metadata": {
    "editable": true
   },
   "outputs": [
    {
     "data": {
      "text/html": [
       "<div>\n",
       "<style scoped>\n",
       "    .dataframe tbody tr th:only-of-type {\n",
       "        vertical-align: middle;\n",
       "    }\n",
       "\n",
       "    .dataframe tbody tr th {\n",
       "        vertical-align: top;\n",
       "    }\n",
       "\n",
       "    .dataframe thead th {\n",
       "        text-align: right;\n",
       "    }\n",
       "</style>\n",
       "<table border=\"1\" class=\"dataframe\">\n",
       "  <thead>\n",
       "    <tr style=\"text-align: right;\">\n",
       "      <th></th>\n",
       "      <th>artist</th>\n",
       "      <th>song</th>\n",
       "      <th>length</th>\n",
       "    </tr>\n",
       "  </thead>\n",
       "  <tbody>\n",
       "    <tr>\n",
       "      <th>0</th>\n",
       "      <td>Faithless</td>\n",
       "      <td>Music Matters (Mark Knight Dub)</td>\n",
       "      <td>495.307312</td>\n",
       "    </tr>\n",
       "  </tbody>\n",
       "</table>\n",
       "</div>"
      ],
      "text/plain": [
       "      artist                             song      length\n",
       "0  Faithless  Music Matters (Mark Knight Dub)  495.307312"
      ]
     },
     "execution_count": 11,
     "metadata": {},
     "output_type": "execute_result"
    }
   ],
   "source": [
    "session.execute(\"\"\"CREATE TABLE IF NOT EXISTS song_info_session (\n",
    "                   sessionId INT,\n",
    "                   itemInSession INT,\n",
    "                   artist TEXT,\n",
    "                   song TEXT,\n",
    "                   length FLOAT,\n",
    "                   PRIMARY KEY (sessionId, itemInSession))\"\"\")\n",
    "insert_to_table(\"song_info_session\", columns=['sessionId', 'itemInSession', 'artist', 'song', 'length'])\n",
    "read_to_df(\"SELECT artist, song, length FROM song_info_session WHERE sessionId = 338 AND itemInSession = 4\")"
   ]
  },
  {
   "cell_type": "markdown",
   "metadata": {
    "editable": true
   },
   "source": [
    "#### Question 2: Give me only the following: name of artist, song (sorted by itemInSession) and user (first and last name) for userid = 10, sessionid = 182\n",
    "\n",
    "For this query, both the *userId* and *sessionId* are included in the *WHERE* clause, so they both need to be part of the Primary Key.\n",
    "We will also need our result to be sorted by *itemInSession*, so this will be a clustering key.\n",
    "\n",
    "Because we are going to query using both the *userId* and the *sessionId*, we will use both of them as the Partition Key, so that:\n",
    "1. sessions from a single user are stored in the same node\n",
    "2. sessions are being spread evenly among cluster nodes"
   ]
  },
  {
   "cell_type": "code",
   "execution_count": 12,
   "metadata": {
    "editable": true
   },
   "outputs": [
    {
     "data": {
      "text/html": [
       "<div>\n",
       "<style scoped>\n",
       "    .dataframe tbody tr th:only-of-type {\n",
       "        vertical-align: middle;\n",
       "    }\n",
       "\n",
       "    .dataframe tbody tr th {\n",
       "        vertical-align: top;\n",
       "    }\n",
       "\n",
       "    .dataframe thead th {\n",
       "        text-align: right;\n",
       "    }\n",
       "</style>\n",
       "<table border=\"1\" class=\"dataframe\">\n",
       "  <thead>\n",
       "    <tr style=\"text-align: right;\">\n",
       "      <th></th>\n",
       "      <th>artist</th>\n",
       "      <th>song</th>\n",
       "      <th>firstname</th>\n",
       "      <th>lastname</th>\n",
       "    </tr>\n",
       "  </thead>\n",
       "  <tbody>\n",
       "    <tr>\n",
       "      <th>0</th>\n",
       "      <td>Down To The Bone</td>\n",
       "      <td>Keep On Keepin' On</td>\n",
       "      <td>Sylvie</td>\n",
       "      <td>Cruz</td>\n",
       "    </tr>\n",
       "    <tr>\n",
       "      <th>1</th>\n",
       "      <td>Three Drives</td>\n",
       "      <td>Greece 2000</td>\n",
       "      <td>Sylvie</td>\n",
       "      <td>Cruz</td>\n",
       "    </tr>\n",
       "    <tr>\n",
       "      <th>2</th>\n",
       "      <td>Sebastien Tellier</td>\n",
       "      <td>Kilometer</td>\n",
       "      <td>Sylvie</td>\n",
       "      <td>Cruz</td>\n",
       "    </tr>\n",
       "    <tr>\n",
       "      <th>3</th>\n",
       "      <td>Lonnie Gordon</td>\n",
       "      <td>Catch You Baby (Steve Pitron &amp; Max Sanna Radio...</td>\n",
       "      <td>Sylvie</td>\n",
       "      <td>Cruz</td>\n",
       "    </tr>\n",
       "  </tbody>\n",
       "</table>\n",
       "</div>"
      ],
      "text/plain": [
       "              artist                                               song  \\\n",
       "0   Down To The Bone                                 Keep On Keepin' On   \n",
       "1       Three Drives                                        Greece 2000   \n",
       "2  Sebastien Tellier                                          Kilometer   \n",
       "3      Lonnie Gordon  Catch You Baby (Steve Pitron & Max Sanna Radio...   \n",
       "\n",
       "  firstname lastname  \n",
       "0    Sylvie     Cruz  \n",
       "1    Sylvie     Cruz  \n",
       "2    Sylvie     Cruz  \n",
       "3    Sylvie     Cruz  "
      ]
     },
     "execution_count": 12,
     "metadata": {},
     "output_type": "execute_result"
    }
   ],
   "source": [
    "session.execute(\"\"\"CREATE TABLE IF NOT EXISTS song_playlist_session (\n",
    "                   userId INT,\n",
    "                   sessionId INT,\n",
    "                   itemInSession INT,\n",
    "                   artist TEXT,\n",
    "                   song TEXT,\n",
    "                   firstName TEXT,\n",
    "                   lastName TEXT,\n",
    "                   PRIMARY KEY ((userId, sessionId), itemInSession))\"\"\")\n",
    "insert_to_table(\n",
    "    \"song_playlist_session\",\n",
    "    columns=['userId', 'sessionId', 'itemInSession', 'artist', 'song', 'firstName', 'lastName']\n",
    ")\n",
    "read_to_df(\"SELECT artist, song, firstName, lastName FROM song_playlist_session WHERE userId = 10 AND sessionId = 182\") "
   ]
  },
  {
   "cell_type": "markdown",
   "metadata": {
    "editable": true
   },
   "source": [
    "#### Question 3: Give me every user name (first and last) in my music app history who listened to the song 'All Hands Against His Own'\n",
    "\n",
    "For this query we need to use all the *song* and *userId* as the Primary Key, so that we can\n",
    "guarantee that the results are unique.\n",
    "\n",
    "If we don't include, for example, the *userId* as part of the Primary Key, then Cassandra will overwrite rows with the same song\n",
    "and we won't get the full result back.\n",
    "\n",
    "Additionally, choosing the *userId* as part of the primary key means that we will get the same *firstName* and *lastName*\n",
    "multiple times as part of the result, for users who have the same name and have listened to the same song."
   ]
  },
  {
   "cell_type": "code",
   "execution_count": 13,
   "metadata": {
    "editable": true
   },
   "outputs": [
    {
     "data": {
      "text/html": [
       "<div>\n",
       "<style scoped>\n",
       "    .dataframe tbody tr th:only-of-type {\n",
       "        vertical-align: middle;\n",
       "    }\n",
       "\n",
       "    .dataframe tbody tr th {\n",
       "        vertical-align: top;\n",
       "    }\n",
       "\n",
       "    .dataframe thead th {\n",
       "        text-align: right;\n",
       "    }\n",
       "</style>\n",
       "<table border=\"1\" class=\"dataframe\">\n",
       "  <thead>\n",
       "    <tr style=\"text-align: right;\">\n",
       "      <th></th>\n",
       "      <th>firstname</th>\n",
       "      <th>lastname</th>\n",
       "    </tr>\n",
       "  </thead>\n",
       "  <tbody>\n",
       "    <tr>\n",
       "      <th>0</th>\n",
       "      <td>Jacqueline</td>\n",
       "      <td>Lynch</td>\n",
       "    </tr>\n",
       "    <tr>\n",
       "      <th>1</th>\n",
       "      <td>Tegan</td>\n",
       "      <td>Levine</td>\n",
       "    </tr>\n",
       "    <tr>\n",
       "      <th>2</th>\n",
       "      <td>Sara</td>\n",
       "      <td>Johnson</td>\n",
       "    </tr>\n",
       "  </tbody>\n",
       "</table>\n",
       "</div>"
      ],
      "text/plain": [
       "    firstname lastname\n",
       "0  Jacqueline    Lynch\n",
       "1       Tegan   Levine\n",
       "2        Sara  Johnson"
      ]
     },
     "execution_count": 13,
     "metadata": {},
     "output_type": "execute_result"
    }
   ],
   "source": [
    "session.execute(\"\"\"CREATE TABLE IF NOT EXISTS song_listeners (\n",
    "                   song TEXT,\n",
    "                   userId INT,\n",
    "                   firstName TEXT,\n",
    "                   lastName TEXT,\n",
    "                   PRIMARY KEY (song, userId))\"\"\")\n",
    "insert_to_table(\"song_listeners\", columns=['song', 'userId', 'firstName', 'lastName'])\n",
    "read_to_df(\"SELECT firstName, lastName FROM song_listeners WHERE song = 'All Hands Against His Own'\")"
   ]
  },
  {
   "cell_type": "markdown",
   "metadata": {
    "editable": true
   },
   "source": [
    "### We can now drop the tables from this demo."
   ]
  },
  {
   "cell_type": "code",
   "execution_count": 14,
   "metadata": {
    "editable": true
   },
   "outputs": [
    {
     "data": {
      "text/plain": [
       "<cassandra.cluster.ResultSet at 0x7f047ac6af60>"
      ]
     },
     "execution_count": 14,
     "metadata": {},
     "output_type": "execute_result"
    }
   ],
   "source": [
    "session.execute(\"DROP TABLE IF EXISTS song_info_session_example\")\n",
    "\n",
    "session.execute(\"DROP TABLE IF EXISTS song_info_session\")\n",
    "session.execute(\"DROP TABLE IF EXISTS song_playlist_session\")\n",
    "session.execute(\"DROP TABLE IF EXISTS song_listeners\")"
   ]
  },
  {
   "cell_type": "markdown",
   "metadata": {
    "editable": true
   },
   "source": [
    "### Finally we close the session and cluster connection."
   ]
  },
  {
   "cell_type": "code",
   "execution_count": 15,
   "metadata": {
    "editable": true
   },
   "outputs": [],
   "source": [
    "session.shutdown()\n",
    "cluster.shutdown()"
   ]
  }
 ],
 "metadata": {
  "kernelspec": {
   "display_name": "Python 3",
   "language": "python",
   "name": "python3"
  },
  "language_info": {
   "codemirror_mode": {
    "name": "ipython",
    "version": 3
   },
   "file_extension": ".py",
   "mimetype": "text/x-python",
   "name": "python",
   "nbconvert_exporter": "python",
   "pygments_lexer": "ipython3",
   "version": "3.6.3"
  }
 },
 "nbformat": 4,
 "nbformat_minor": 4
}
